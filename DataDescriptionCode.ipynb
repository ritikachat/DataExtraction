{
 "cells": [
  {
   "cell_type": "code",
   "execution_count": 8,
   "metadata": {},
   "outputs": [
    {
     "name": "stdout",
     "output_type": "stream",
     "text": [
      "               year      refugees  asylum_seekers  returned_refugees  \\\n",
      "count  64809.000000  6.480900e+04    64809.000000       64809.000000   \n",
      "mean    2016.393356  3.440013e+03      564.166119          73.480659   \n",
      "std        3.722613  5.525597e+04     7455.730894        2460.282939   \n",
      "min     2010.000000  0.000000e+00        0.000000           0.000000   \n",
      "25%     2013.000000  5.000000e+00        0.000000           0.000000   \n",
      "50%     2017.000000  1.200000e+01        8.000000           0.000000   \n",
      "75%     2020.000000  8.800000e+01       57.000000           0.000000   \n",
      "max     2022.000000  3.737369e+06   940668.000000      381275.000000   \n",
      "\n",
      "               idps  returned_idps      stateless           ooc           oip  \\\n",
      "count  6.480900e+04   6.480900e+04   64809.000000  6.480900e+04  1.000000e+02   \n",
      "mean   7.088696e+03   7.061573e+02     756.625191  4.374958e+02  1.966112e+05   \n",
      "std    1.631746e+05   2.365424e+04   19980.220686  2.018268e+04  4.195870e+05   \n",
      "min    0.000000e+00   0.000000e+00       0.000000  0.000000e+00  5.000000e+00   \n",
      "25%    0.000000e+00   0.000000e+00       0.000000  0.000000e+00  8.218250e+03   \n",
      "50%    0.000000e+00   0.000000e+00       0.000000  0.000000e+00  2.316500e+04   \n",
      "75%    0.000000e+00   0.000000e+00       0.000000  0.000000e+00  1.647600e+05   \n",
      "max    8.252788e+06   2.134349e+06  955399.000000  3.206577e+06  2.453862e+06   \n",
      "\n",
      "                hst  \n",
      "count  5.964000e+03  \n",
      "mean   6.264660e+03  \n",
      "std    2.100905e+05  \n",
      "min    0.000000e+00  \n",
      "25%    0.000000e+00  \n",
      "50%    0.000000e+00  \n",
      "75%    0.000000e+00  \n",
      "max    1.520972e+07  \n"
     ]
    }
   ],
   "source": [
    "#pip install pandas\n",
    "#pip install matplotlib\n",
    "\n",
    "import pandas as pd\n",
    "import matplotlib.pyplot as plt\n",
    "\n",
    "# Describe Oil Price Data\n",
    "\n",
    "#df = pd.read_csv(\"c:\\\\Users\\\\ritik\\\\Downloads\\\\ISA401\\\\Class_Code\\\\project\\\\crude-oil-prices.csv\")\n",
    "\n",
    "#print(df.describe())\n",
    "\n",
    "# Describe IMF Data\n",
    "\n",
    "#df = pd.read_csv(\"c:\\\\Users\\\\ritik\\\\Downloads\\\\ISA401\\\\Class_Code\\\\project\\\\transformed_MCDREO_data.csv\")\n",
    "\n",
    "#print(df.describe())\n",
    "\n",
    "# Describe Refugee Data\n",
    "\n",
    "df = pd.read_csv(\"c:\\\\Users\\\\ritik\\\\Downloads\\\\ISA401\\\\Class_Code\\\\project\\\\refugee_data.csv\")\n",
    "\n",
    "print(df.describe())\n",
    "\n",
    "\n"
   ]
  }
 ],
 "metadata": {
  "kernelspec": {
   "display_name": "Python 3",
   "language": "python",
   "name": "python3"
  },
  "language_info": {
   "codemirror_mode": {
    "name": "ipython",
    "version": 3
   },
   "file_extension": ".py",
   "mimetype": "text/x-python",
   "name": "python",
   "nbconvert_exporter": "python",
   "pygments_lexer": "ipython3",
   "version": "3.11.5"
  }
 },
 "nbformat": 4,
 "nbformat_minor": 2
}
