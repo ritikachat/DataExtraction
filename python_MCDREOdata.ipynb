{
 "cells": [
  {
   "cell_type": "code",
   "execution_count": 7,
   "metadata": {},
   "outputs": [
    {
     "name": "stdout",
     "output_type": "stream",
     "text": [
      "Index(['Country Name', 'Country Code', 'Indicator Name', 'Indicator Code',\n",
      "       'Attribute', '2009', '2010', '2011', '2012', '2013', '2014', '2015',\n",
      "       '2016', '2017', '2018', '2019', '2020', '2021', '2022', '2023',\n",
      "       'Unnamed: 20'],\n",
      "      dtype='object')\n"
     ]
    }
   ],
   "source": [
    "import pandas as pd\n",
    "\n",
    "\n",
    "# Load the dataset\n",
    "df = pd.read_csv('C:\\\\Users\\\\ritik\\\\Downloads\\\\ISA401\\\\Class_Code\\\\project\\\\MCDREO_05-05-2024 19-42-19-94_timeSeries\\\\MCDREO_05-05-2024 19-42-19-94_timeSeries.csv')\n",
    "\n",
    "# Print the column names\n",
    "print(df.columns)\n",
    "\n",
    "# Reshape the DataFrame\n",
    "# Assuming 'id_vars' are the columns that you do not want to melt\n",
    "melted_df = pd.melt(df, id_vars=['Country Name', 'Country Code', 'Indicator Name', 'Indicator Code', 'Attribute'], var_name='Year', value_name='Value')\n",
    "\n",
    "melted_df.to_csv('C:\\\\Users\\\\ritik\\\\Downloads\\\\ISA401\\\\Class_Code\\\\project\\\\transformed_MCDREO_data.csv', index=False)\n",
    "\n",
    "\n",
    "\n",
    "\n",
    "\n"
   ]
  }
 ],
 "metadata": {
  "kernelspec": {
   "display_name": "Python 3",
   "language": "python",
   "name": "python3"
  },
  "language_info": {
   "codemirror_mode": {
    "name": "ipython",
    "version": 3
   },
   "file_extension": ".py",
   "mimetype": "text/x-python",
   "name": "python",
   "nbconvert_exporter": "python",
   "pygments_lexer": "ipython3",
   "version": "undefined.undefined.undefined"
  }
 },
 "nbformat": 4,
 "nbformat_minor": 2
}
