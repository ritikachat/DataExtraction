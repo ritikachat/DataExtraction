{
 "cells": [
  {
   "cell_type": "code",
   "execution_count": 6,
   "metadata": {},
   "outputs": [
    {
     "name": "stdout",
     "output_type": "stream",
     "text": [
      "Dataset URL: https://www.kaggle.com/datasets/sujaykapadnis/refugees\n",
      "   year                coo_name  coo coo_iso     coa_name  coa coa_iso  \\\n",
      "0  2010             Afghanistan  AFG     AFG  Afghanistan  AFG     AFG   \n",
      "1  2010  Iran (Islamic Rep. of)  IRN     IRN  Afghanistan  AFG     AFG   \n",
      "2  2010                    Iraq  IRQ     IRQ  Afghanistan  AFG     AFG   \n",
      "3  2010                Pakistan  PAK     PAK  Afghanistan  AFG     AFG   \n",
      "4  2010                   Egypt  ARE     EGY      Albania  ALB     ALB   \n",
      "\n",
      "   refugees  asylum_seekers  returned_refugees    idps  returned_idps  \\\n",
      "0         0               0                  0  351907           3366   \n",
      "1        30              21                  0       0              0   \n",
      "2         6               0                  0       0              0   \n",
      "3      6398               9                  0       0              0   \n",
      "4         5               0                  0       0              0   \n",
      "\n",
      "   stateless     ooc  oip  hst  \n",
      "0          0  838250  NaN  NaN  \n",
      "1          0       0  NaN  NaN  \n",
      "2          0       0  NaN  NaN  \n",
      "3          0       0  NaN  NaN  \n",
      "4          0       0  NaN  NaN  \n"
     ]
    }
   ],
   "source": [
    "# pip install kaggle in terminal\n",
    "\n",
    "import kaggle\n",
    "import pandas as pd\n",
    "import os\n",
    "\n",
    "# Define the dataset slug\n",
    "dataset_slug = \"sujaykapadnis/refugees\"\n",
    "\n",
    "# Download dataset\n",
    "kaggle.api.dataset_download_files(dataset_slug, path='.', unzip=True)\n",
    "\n",
    "# Check if the specific file 'population.csv' exists\n",
    "population_file_path = 'population.csv'  # Adjust if the file is within a folder in the zip\n",
    "\n",
    "# Load the CSV file into a DataFrame if it exists\n",
    "if os.path.exists(population_file_path):\n",
    "    data = pd.read_csv(population_file_path)\n",
    "    print(data.head())  # Show the first few rows of the dataset\n",
    "\n",
    "    # Optionally, save this DataFrame to a new CSV file\n",
    "    data.to_csv('refugee_data.csv', index=False)\n",
    "else:\n",
    "    print(\"population.csv file not found.\")\n"
   ]
  }
 ],
 "metadata": {
  "kernelspec": {
   "display_name": "Python 3",
   "language": "python",
   "name": "python3"
  },
  "language_info": {
   "codemirror_mode": {
    "name": "ipython",
    "version": 3
   },
   "file_extension": ".py",
   "mimetype": "text/x-python",
   "name": "python",
   "nbconvert_exporter": "python",
   "pygments_lexer": "ipython3",
   "version": "3.11.5"
  }
 },
 "nbformat": 4,
 "nbformat_minor": 2
}
